{
 "cells": [
  {
   "cell_type": "code",
   "execution_count": 1,
   "metadata": {},
   "outputs": [
    {
     "name": "stdout",
     "output_type": "stream",
     "text": [
      "['Apfel', 'Banane', 'Kirsche']\n"
     ]
    }
   ],
   "source": [
    "fruits = [\"Apfel\", \"Banane\", \"Kirsche\"]\n",
    "print(fruits)"
   ]
  },
  {
   "cell_type": "code",
   "execution_count": 4,
   "metadata": {},
   "outputs": [
    {
     "name": "stdout",
     "output_type": "stream",
     "text": [
      "Banane\n",
      "Banane\n",
      "Apfel\n"
     ]
    }
   ],
   "source": [
    "fruits = [\"Apfel\", \"Banane\", \"Kirsche\"]\n",
    "print(fruits[1])\n",
    "print(fruits[-2])\n",
    "print(fruits[-3])"
   ]
  },
  {
   "cell_type": "code",
   "execution_count": 13,
   "metadata": {},
   "outputs": [
    {
     "name": "stdout",
     "output_type": "stream",
     "text": [
      "[1, 2, 3]\n",
      "[3, 4, 5, 6]\n",
      "8\n"
     ]
    }
   ],
   "source": [
    "#slicing\n",
    "\n",
    "numbers = [0, 1, 2, 3, 4, 5, 6, 7, 8]\n",
    "\n",
    "print(numbers[1:4])\n",
    "print(numbers[3:7])\n",
    "print(numbers[len(numbers)-1])\n"
   ]
  },
  {
   "cell_type": "code",
   "execution_count": 37,
   "metadata": {},
   "outputs": [
    {
     "name": "stdout",
     "output_type": "stream",
     "text": [
      "['Apfel', 'Banane', 'Kirsche']\n",
      "3\n",
      "['Apfel', 'Erdbeere', 'Kiwi', 'Kirsche']\n"
     ]
    }
   ],
   "source": [
    "fruits = [\"Apfel\", \"Banane\"]\n",
    "\n",
    "# Neues Element zur letzten Stelle hinzufügen\n",
    "fruits.append(\"Kirsche\")\n",
    "\n",
    "print(fruits)\n",
    "\n",
    "# An einer bestimmten Position einfügen\n",
    "fruits.insert(2, \"Orange\")\n",
    "\n",
    "# Funktionalität: 2 Elemente nacheinander hinzufügen\n",
    "\n",
    "def add2 (listenname, anfangsposition, element1, element2):\n",
    "    listenname.insert(anfangsposition, element1)\n",
    "    listenname.insert(anfangsposition + 1, element2)\n",
    "\n",
    "add2(fruits, 3, \"Erdbeere\", \"Kiwi\")\n",
    "\n",
    "# Element entfernen\n",
    "fruits.remove(\"Banane\")\n",
    "\n",
    "# Index eines Elements abrufen\n",
    "print(fruits.index(\"Kiwi\"))\n",
    "\n",
    "fruits.pop(1)\n",
    "\n",
    "print(fruits)\n",
    "\n"
   ]
  },
  {
   "cell_type": "code",
   "execution_count": 39,
   "metadata": {},
   "outputs": [
    {
     "name": "stdout",
     "output_type": "stream",
     "text": [
      "Apfel\n",
      "Apfel\n",
      "Erdbeere\n",
      "Kiwi\n",
      "Kirsche\n"
     ]
    }
   ],
   "source": [
    "print(fruits[0])\n",
    "\n",
    "for i in fruits:\n",
    "    print(i)"
   ]
  },
  {
   "cell_type": "code",
   "execution_count": 32,
   "metadata": {},
   "outputs": [
    {
     "name": "stdout",
     "output_type": "stream",
     "text": [
      "1\n",
      "2\n",
      "3\n",
      "4\n",
      "5\n",
      "6\n",
      "7\n",
      "7\n"
     ]
    }
   ],
   "source": [
    "numbers = [1, 2, 3, 4, 5, 6, 7]\n",
    "\n",
    "\n",
    "# in folgender Schleife geschieht folgendes:\n",
    "# eine var mit dem Namen donauschiffahrtskartengueltigkeitsdatumstageswetter deklariert\n",
    "# in jeder Runde der Schleife hat diese Variable einen neuen Wert\n",
    "# dieser Wert wird aus der genannten Liste mit der Reihenfolge gewählt\n",
    "for donauschiffahrtskartengueltigkeitsdatumstageswetter in numbers:\n",
    "    print(donauschiffahrtskartengueltigkeitsdatumstageswetter)  # Gibt alle Zahlen der Reihe nach aus\n",
    "\n",
    "print(donauschiffahrtskartengueltigkeitsdatumstageswetter)"
   ]
  },
  {
   "cell_type": "code",
   "execution_count": 35,
   "metadata": {},
   "outputs": [
    {
     "name": "stdout",
     "output_type": "stream",
     "text": [
      "1\n",
      "2\n",
      "3\n",
      "4\n",
      "5\n",
      "6\n",
      "7\n"
     ]
    }
   ],
   "source": [
    "for i in range(7):\n",
    "    print(numbers[i])  # Zugriff über Index"
   ]
  },
  {
   "cell_type": "code",
   "execution_count": 36,
   "metadata": {},
   "outputs": [
    {
     "name": "stdout",
     "output_type": "stream",
     "text": [
      "1\n",
      "2\n",
      "3\n",
      "4\n",
      "5\n",
      "6\n",
      "7\n"
     ]
    }
   ],
   "source": [
    "for i in range(0, 7, 1):\n",
    "    print(numbers[i])"
   ]
  },
  {
   "cell_type": "code",
   "execution_count": 33,
   "metadata": {},
   "outputs": [
    {
     "data": {
      "text/plain": [
       "7"
      ]
     },
     "execution_count": 33,
     "metadata": {},
     "output_type": "execute_result"
    }
   ],
   "source": [
    "len(numbers)"
   ]
  },
  {
   "cell_type": "code",
   "execution_count": 40,
   "metadata": {},
   "outputs": [
    {
     "name": "stdout",
     "output_type": "stream",
     "text": [
      "1\n",
      "True\n",
      "Jannik\n"
     ]
    }
   ],
   "source": [
    "# Liste mit div. Datentypen Elemente\n",
    "\n",
    "liste3 = [1, True, \"Jannik\"]\n",
    "\n",
    "for element in liste3:\n",
    "    print(element)"
   ]
  },
  {
   "cell_type": "code",
   "execution_count": null,
   "metadata": {},
   "outputs": [
    {
     "name": "stdout",
     "output_type": "stream",
     "text": [
      "[1, 5, 11, 25, 44]\n"
     ]
    }
   ],
   "source": [
    "zahlen = [1, 11, 25, 44, 5]\n",
    "\n",
    "sorted_numbers = sorted(zahlen)\n",
    "\n",
    "print(sorted_numbers)"
   ]
  },
  {
   "cell_type": "code",
   "execution_count": 44,
   "metadata": {},
   "outputs": [
    {
     "ename": "TypeError",
     "evalue": "'<' not supported between instances of 'str' and 'int'",
     "output_type": "error",
     "traceback": [
      "\u001b[1;31m---------------------------------------------------------------------------\u001b[0m",
      "\u001b[1;31mTypeError\u001b[0m                                 Traceback (most recent call last)",
      "Cell \u001b[1;32mIn[44], line 3\u001b[0m\n\u001b[0;32m      1\u001b[0m pause_gleich \u001b[38;5;241m=\u001b[39m [\u001b[38;5;241m1\u001b[39m,\u001b[38;5;124m\"\u001b[39m\u001b[38;5;124mnursema\u001b[39m\u001b[38;5;124m\"\u001b[39m, \u001b[38;5;241m11\u001b[39m, \u001b[38;5;241m44\u001b[39m, \u001b[38;5;241m25\u001b[39m, \u001b[38;5;241m5\u001b[39m,  \u001b[38;5;124m\"\u001b[39m\u001b[38;5;124mberat\u001b[39m\u001b[38;5;124m\"\u001b[39m, \u001b[38;5;124m\"\u001b[39m\u001b[38;5;124mumsortieren\u001b[39m\u001b[38;5;124m\"\u001b[39m]\n\u001b[1;32m----> 3\u001b[0m sorted_liste \u001b[38;5;241m=\u001b[39m \u001b[38;5;28;43msorted\u001b[39;49m\u001b[43m(\u001b[49m\u001b[43mpause_gleich\u001b[49m\u001b[43m)\u001b[49m\n\u001b[0;32m      5\u001b[0m \u001b[38;5;28mprint\u001b[39m(sorted_liste)\n",
      "\u001b[1;31mTypeError\u001b[0m: '<' not supported between instances of 'str' and 'int'"
     ]
    }
   ],
   "source": [
    "pause_gleich = [1,\"nursema\", 11, 44, 25, 5,  \"berat\", \"umsortieren\"]\n",
    "\n",
    "sorted_liste = sorted(pause_gleich)\n",
    "\n",
    "print(sorted_liste)"
   ]
  },
  {
   "cell_type": "code",
   "execution_count": 47,
   "metadata": {},
   "outputs": [
    {
     "name": "stdout",
     "output_type": "stream",
     "text": [
      "[1, 2, 3, 4]\n",
      "[1, 2, 3]\n"
     ]
    }
   ],
   "source": [
    "original = [1, 2, 3]\n",
    "\n",
    "copy = original\n",
    "\n",
    "copy2 = original.copy()\n",
    "\n",
    "original.append(4)\n",
    "\n",
    "print(copy)\n",
    "print(copy2)"
   ]
  },
  {
   "cell_type": "code",
   "execution_count": null,
   "metadata": {},
   "outputs": [
    {
     "name": "stdout",
     "output_type": "stream",
     "text": [
      "1\n",
      "2\n",
      "3\n",
      "4\n",
      "5\n",
      "[1, 4, 9, 16, 25, 36, 49, 64, 81, 100]\n",
      "[1, 4, 9, 16, 25, 36, 49, 64, 81, 100]\n"
     ]
    }
   ],
   "source": [
    "for x in range(1,6):\n",
    "    print(x)\n",
    "\n",
    "# Listenkomprehension: Abgekürzte Version der Erstellung einer\n",
    "# Liste, die auf einer existierenden Liste basiert\n",
    "\n",
    "# ich brauche eine Liste der Quadraten der Zahlen 1 bis 10\n",
    "list1 = [1, 2, 3, 4, 5, 6, 7, 8, 9, 10]\n",
    "list2 = []\n",
    "\n",
    "for element in list1:\n",
    "    # ich muss jedes Element quadratiert hinzufügen\n",
    "    list2.append(element ** 2)\n",
    "\n",
    "print(list2)\n",
    "\n",
    "list3 = [zahl ** 2 for zahl in list1]\n",
    "print(list3)"
   ]
  },
  {
   "cell_type": "code",
   "execution_count": 54,
   "metadata": {},
   "outputs": [
    {
     "name": "stdout",
     "output_type": "stream",
     "text": [
      "[1, 4, 9, 16, 25, 36, 49, 64, 81, 100]\n",
      "True\n",
      "eine Operation durchführen\n",
      "['Bahram']\n"
     ]
    }
   ],
   "source": [
    "print(list3)\n",
    "\n",
    "print(25 in list3)\n",
    "\n",
    "\n",
    "\n",
    "if 25 in list3:\n",
    "    print(\"eine Operation durchführen\")\n",
    "\n",
    "\n",
    "teilnehmer_liste = [\"Aaron\", \"Alex\", \"Ali\", \"Bahram\"]\n",
    "anwesesenheit_18_02 = [\"Aaron\", \"Alex\", \"Ali\"]\n",
    "abwesenheit_18_02 = []\n",
    "\n",
    "# ich möchte eine Liste von abwesenden Teilnehmer erstellen\n",
    "\n",
    "for teilnehmer in teilnehmer_liste:\n",
    "    if teilnehmer in anwesesenheit_18_02:\n",
    "        continue\n",
    "    else:\n",
    "        abwesenheit_18_02.append(teilnehmer)\n",
    "\n",
    "print(abwesenheit_18_02)\n",
    "\n"
   ]
  }
 ],
 "metadata": {
  "kernelspec": {
   "display_name": "Python 3",
   "language": "python",
   "name": "python3"
  },
  "language_info": {
   "codemirror_mode": {
    "name": "ipython",
    "version": 3
   },
   "file_extension": ".py",
   "mimetype": "text/x-python",
   "name": "python",
   "nbconvert_exporter": "python",
   "pygments_lexer": "ipython3",
   "version": "3.13.2"
  }
 },
 "nbformat": 4,
 "nbformat_minor": 2
}
