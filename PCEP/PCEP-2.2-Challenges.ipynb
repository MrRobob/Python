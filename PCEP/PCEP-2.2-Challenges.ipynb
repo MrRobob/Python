{
 "cells": [
  {
   "cell_type": "code",
   "execution_count": 1,
   "metadata": {},
   "outputs": [
    {
     "name": "stdout",
     "output_type": "stream",
     "text": [
      "10\n",
      "9\n",
      "8\n",
      "7\n",
      "6\n",
      "5\n",
      "4\n",
      "3\n",
      "2\n",
      "1\n",
      "Fertig!\n"
     ]
    }
   ],
   "source": [
    "# Challenge 0\n",
    "\n",
    "x = 10\n",
    "while x > 0:\n",
    "    print(x)\n",
    "    x -= 1\n",
    "else:\n",
    "    print('Fertig!')"
   ]
  },
  {
   "cell_type": "code",
   "execution_count": null,
   "metadata": {},
   "outputs": [
    {
     "name": "stdout",
     "output_type": "stream",
     "text": [
      "text\n",
      "noch mehr text\n",
      "fdshf\n"
     ]
    }
   ],
   "source": [
    "# Challenge 1\n",
    "\n",
    "while True:\n",
    "    text = input(\"Bitte Text eingeben oder mit 'exit' beenden: \")\n",
    "    if text == 'exit':\n",
    "        break\n",
    "    print(text)"
   ]
  },
  {
   "cell_type": "code",
   "execution_count": 2,
   "metadata": {},
   "outputs": [
    {
     "name": "stdout",
     "output_type": "stream",
     "text": [
      "1\n",
      "4\n",
      "9\n",
      "16\n",
      "25\n",
      "36\n",
      "49\n",
      "64\n",
      "81\n"
     ]
    }
   ],
   "source": [
    "# Challenge 2\n",
    "\n",
    "for i in range(1, 10):\n",
    "    print(i ** 2)"
   ]
  },
  {
   "cell_type": "code",
   "execution_count": null,
   "metadata": {},
   "outputs": [
    {
     "name": "stdout",
     "output_type": "stream",
     "text": [
      "Alice\n",
      "Bob\n",
      "Charlie\n",
      "Dave\n",
      "Eve\n",
      "Alice ist 24 Jahre alt.\n",
      "Bob ist 19 Jahre alt.\n",
      "Charlie ist 29 Jahre alt.\n",
      "Dave ist 32 Jahre alt.\n",
      "Eve ist 21 Jahre alt.\n"
     ]
    }
   ],
   "source": [
    "# Challenge 3\n",
    "\n",
    "names = ['Alice', 'Bob', 'Charlie', 'Dave', 'Eve']\n",
    "for name in names:\n",
    "    print(name)\n",
    "\n",
    "ages = {'Alice': 24, 'Bob': 19, 'Charlie': 29, 'Dave': 32, 'Eve': 21}\n",
    "for name in ages:\n",
    "    print(f\"{name} ist {ages[name]} Jahre alt.\")"
   ]
  },
  {
   "cell_type": "code",
   "execution_count": null,
   "metadata": {},
   "outputs": [
    {
     "name": "stdout",
     "output_type": "stream",
     "text": [
      "1\n",
      "2\n",
      "4\n",
      "5\n",
      "7\n"
     ]
    }
   ],
   "source": [
    "# Challenge 4\n",
    "\n",
    "def real_range(start, stop, step=1):\n",
    "    output = []\n",
    "    if start < stop: \n",
    "        while start <= stop:\n",
    "            output.append(start)\n",
    "            start += step\n",
    "        return output\n",
    "    elif start > stop:\n",
    "        while start >= stop:\n",
    "            output.append(start)\n",
    "            start -= step\n",
    "        return output\n",
    "\n",
    "for i in real_range(1, 10):\n",
    "    if i % 3 == 0:\n",
    "        continue\n",
    "    if i == 8:\n",
    "        break\n",
    "    print(i)"
   ]
  }
 ],
 "metadata": {
  "kernelspec": {
   "display_name": "Python 3",
   "language": "python",
   "name": "python3"
  },
  "language_info": {
   "codemirror_mode": {
    "name": "ipython",
    "version": 3
   },
   "file_extension": ".py",
   "mimetype": "text/x-python",
   "name": "python",
   "nbconvert_exporter": "python",
   "pygments_lexer": "ipython3",
   "version": "3.13.1"
  }
 },
 "nbformat": 4,
 "nbformat_minor": 2
}
