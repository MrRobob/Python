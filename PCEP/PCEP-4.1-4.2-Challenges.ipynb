{
 "cells": [
  {
   "cell_type": "code",
   "execution_count": null,
   "metadata": {},
   "outputs": [
    {
     "name": "stdout",
     "output_type": "stream",
     "text": [
      "Hallo, Anna!\n",
      "Guten Tag, Lukas!\n",
      "Hallo, Welt!\n"
     ]
    }
   ],
   "source": [
    "# 1. Begrüßungsfunktion\n",
    "\n",
    "def greet(name, greeting=\"Hallo\"):\n",
    "    if name == \"\":\n",
    "        return \"Hallo, Welt!\"\n",
    "    else:\n",
    "        return f\"{greeting}, {name}!\"\n",
    "\n",
    "print(greet(\"Anna\"))\n",
    "print(greet(\"Lukas\", \"Guten Tag\"))\n",
    "print(greet(\"\"))\n"
   ]
  },
  {
   "cell_type": "code",
   "execution_count": null,
   "metadata": {},
   "outputs": [
    {
     "name": "stdout",
     "output_type": "stream",
     "text": [
      "8\n",
      "2.0\n",
      "Fehler: Division durch Null!\n"
     ]
    }
   ],
   "source": [
    "# 2. Taschenrechner\n",
    "\n",
    "def add(a, b):\n",
    "    return a + b\n",
    "def substract(a, b):\n",
    "    return a - b\n",
    "def multiply(a, b):\n",
    "    return a * b\n",
    "def divide(a, b):\n",
    "    if b == 0:\n",
    "        return \"Fehler: Division durch Null!\"\n",
    "    else:\n",
    "        return a / b\n",
    "    \n",
    "operationen = {\n",
    "    \"add\": add,\n",
    "    \"substract\": substract,\n",
    "    \"multiply\": multiply,\n",
    "    \"divide\": divide\n",
    "}\n",
    "\n",
    "def calculator(a, b, operation):\n",
    "    if operation in operationen:\n",
    "        return operationen[operation](a, b)\n",
    "    else:\n",
    "        return \"Ungültige Operation\"\n",
    "    \n",
    "print(calculator(5, 3, \"add\"))\n",
    "print(calculator(10, 5, \"divide\"))\n",
    "print(calculator(7, 0, \"divide\"))\n",
    "\n"
   ]
  },
  {
   "cell_type": "code",
   "execution_count": null,
   "metadata": {},
   "outputs": [
    {
     "name": "stdout",
     "output_type": "stream",
     "text": [
      "Ausgabe:\n",
      "Einkaufsliste:\n",
      "1. Brot\n"
     ]
    }
   ],
   "source": [
    "# 3. Einkaufsliste\n",
    "\n",
    "shopping_list = []\n",
    "\n",
    "def add_item(shopping_list, item):\n",
    "    shopping_list.append(item)\n",
    "\n",
    "def remove_item(shopping_list, item):\n",
    "    shopping_list.remove(item)\n",
    "    \n",
    "def display_list(shopping_list):\n",
    "    for item in shopping_list:\n",
    "        i = 0\n",
    "        print(f\"{i+1}. {item}\")\n",
    "    \n",
    "add_item(shopping_list, \"Milch\")\n",
    "add_item(shopping_list, \"Brot\")\n",
    "remove_item(shopping_list, \"Milch\")\n",
    "print(\"Ausgabe:\\nEinkaufsliste:\")\n",
    "display_list(shopping_list)"
   ]
  },
  {
   "cell_type": "code",
   "execution_count": 1,
   "metadata": {},
   "outputs": [
    {
     "name": "stdout",
     "output_type": "stream",
     "text": [
      "Zu kurz! Mindestens 8 Zeichen.\n",
      "Muss mindestens eine Zahl enthalten!\n",
      "Muss mindestens ein Sonderzeichen enthalten!\n",
      "Sicher genug! ✅\n"
     ]
    }
   ],
   "source": [
    "# 4. Passwort-Checker\n",
    "\n",
    "def check_password(password):\n",
    "    if len(password) < 8:\n",
    "        return \"Zu kurz! Mindestens 8 Zeichen.\"\n",
    "    \n",
    "    enthaelt_zahl = False\n",
    "    enthaelt_sonderzeichen = False\n",
    "    sonderzeichen = \"!@#$%^&*)(-_=+][}{|;:'\\\",.<>?/\\\\`~\"\n",
    "\n",
    "    for zeichen in password:\n",
    "        if zeichen.isdigit():\n",
    "            enthaelt_zahl = True\n",
    "        if zeichen in sonderzeichen:\n",
    "            enthaelt_sonderzeichen = True\n",
    "    \n",
    "    if enthaelt_zahl == False:\n",
    "        return \"Muss mindestens eine Zahl enthalten!\"\n",
    "    if enthaelt_sonderzeichen == False:\n",
    "        return \"Muss mindestens ein Sonderzeichen enthalten!\"\n",
    "    \n",
    "    return \"Sicher genug! ✅\"\n",
    "        \n",
    "print(check_password(\"Passwor\"))\n",
    "print(check_password(\"Passwort\"))\n",
    "print(check_password(\"Passwort1\"))\n",
    "print(check_password(\"Passw0rd!\")) "
   ]
  },
  {
   "cell_type": "code",
   "execution_count": null,
   "metadata": {},
   "outputs": [
    {
     "name": "stdout",
     "output_type": "stream",
     "text": [
      "Bleib besser zu Hause!\n",
      "Nimm einen Regenschirm!\n",
      "Zieh eine Jacke an.\n",
      "Genieße das Wetter!\n"
     ]
    }
   ],
   "source": [
    "# Wetter-App\n",
    "\n",
    "def weather_advice(temp, rain):\n",
    "    if temp < 10 and rain:\n",
    "        return \"Bleib besser zu Hause!\"\n",
    "    elif temp < 10 and rain == False:\n",
    "        return \"Zieh eine Jacke an.\"\n",
    "    elif temp > 10 and rain == True:\n",
    "        return \"Nimm einen Regenschirm!\"\n",
    "    else:\n",
    "        return \"Genieße das Wetter!\"\n",
    "\n",
    "print(weather_advice(5, True))\n",
    "print(weather_advice(15, True))\n",
    "print(weather_advice(5, False))\n",
    "print(weather_advice(20, False))"
   ]
  }
 ],
 "metadata": {
  "kernelspec": {
   "display_name": "Python 3",
   "language": "python",
   "name": "python3"
  },
  "language_info": {
   "codemirror_mode": {
    "name": "ipython",
    "version": 3
   },
   "file_extension": ".py",
   "mimetype": "text/x-python",
   "name": "python",
   "nbconvert_exporter": "python",
   "pygments_lexer": "ipython3",
   "version": "3.13.1"
  }
 },
 "nbformat": 4,
 "nbformat_minor": 2
}
