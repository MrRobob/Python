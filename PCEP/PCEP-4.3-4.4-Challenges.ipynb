{
 "cells": [
  {
   "cell_type": "code",
   "execution_count": 4,
   "metadata": {},
   "outputs": [
    {
     "name": "stdout",
     "output_type": "stream",
     "text": [
      "24\n"
     ]
    }
   ],
   "source": [
    "def fakultaet(zahl):\n",
    "    if zahl == 0 or zahl == 1:\n",
    "        return 1\n",
    "    else:\n",
    "        return zahl * fakultaet(zahl - 1)\n",
    "    \n",
    "print(fakultaet(4))"
   ]
  },
  {
   "cell_type": "code",
   "execution_count": null,
   "metadata": {},
   "outputs": [
    {
     "name": "stdout",
     "output_type": "stream",
     "text": [
      "IndexError: list index out of range\n",
      "KeyError: 'c'\n"
     ]
    }
   ],
   "source": [
    "def fehlermeldung():\n",
    "    try:\n",
    "        liste = [1, 2, 3]\n",
    "        print(liste[5])\n",
    "    except IndexError as i:\n",
    "        print(f\"IndexError: {i}\")\n",
    "\n",
    "    try:\n",
    "        dictionary = {'a': 1, 'b': 2}\n",
    "        print(dictionary['c'])\n",
    "    except KeyError as k:\n",
    "        print(f\"KeyError: {k}\")\n",
    "\n",
    "fehlermeldung()"
   ]
  },
  {
   "cell_type": "code",
   "execution_count": 12,
   "metadata": {},
   "outputs": [
    {
     "name": "stdout",
     "output_type": "stream",
     "text": [
      "Du bist zu jung!\n"
     ]
    }
   ],
   "source": [
    "age = 5\n",
    "\n",
    "class AgeTooSmallError(Exception):\n",
    "    def __init__(self, message=\"Du bist zu jung!\"):\n",
    "        self.message = message\n",
    "        super().__init__(self.message)\n",
    "\n",
    "try:\n",
    "    if age < 18:\n",
    "        raise AgeTooSmallError()\n",
    "\n",
    "except AgeTooSmallError as a:\n",
    "    print(a)"
   ]
  },
  {
   "cell_type": "markdown",
   "metadata": {},
   "source": [
    "Gerne! Hier ist eine detaillierte Erklärung des Konstruktors `__init__` in der benutzerdefinierten Ausnahme `AgeTooSmallError`:\n",
    "\n"
   ]
  },
  {
   "cell_type": "code",
   "execution_count": null,
   "metadata": {},
   "outputs": [],
   "source": [
    "class AgeTooSmallError(Exception):\n",
    "    def __init__(self, message=\"Du bist zu jung!\"):\n",
    "        self.message = message\n",
    "        super().__init__(self.message)"
   ]
  },
  {
   "cell_type": "markdown",
   "metadata": {},
   "source": [
    "\n",
    "\n",
    "### Wort für Wort Erklärung:\n",
    "\n",
    "1. **class AgeTooSmallError(Exception):**\n",
    "   - Dies definiert eine neue Klasse `AgeTooSmallError`, die von der eingebauten `Exception`-Klasse erbt. Das bedeutet, dass `AgeTooSmallError` eine spezielle Art von Ausnahme ist.\n",
    "\n",
    "2. **def __init__(self, message=\"Du bist zu jung!\"):**\n",
    "   - Dies ist der Konstruktor der Klasse `AgeTooSmallError`. Der Konstruktor ist eine spezielle Methode, die aufgerufen wird, wenn eine neue Instanz der Klasse erstellt wird.\n",
    "   - `self` ist eine Referenz auf die aktuelle Instanz der Klasse.\n",
    "   - `message=\"Du bist zu jung!\"` ist ein Parameter mit einem Standardwert. Wenn kein Wert für `message` angegeben wird, wird \"Du bist zu jung!\" verwendet.\n",
    "\n",
    "3. **self.message = message:**\n",
    "   - Diese Zeile weist den Wert des Parameters `message` dem Attribut `message` der Instanz zu. Dadurch wird die Fehlermeldung in der Instanz gespeichert.\n",
    "\n",
    "4. **super().__init__(self.message):**\n",
    "   - `super()` ruft den Konstruktor der Basisklasse (`Exception`) auf.\n",
    "   - `__init__(self.message)` übergibt die Fehlermeldung an den Konstruktor der Basisklasse. Dadurch wird sichergestellt, dass die Fehlermeldung korrekt in der Basisklasse verarbeitet wird.\n",
    "\n",
    "### Zusammengefasst:\n",
    "Der Konstruktor `__init__` initialisiert eine neue Instanz der `AgeTooSmallError`-Klasse mit einer Fehlermeldung. Wenn keine spezifische Fehlermeldung angegeben wird, wird die Standardmeldung \"Du bist zu jung!\" verwendet. Die Fehlermeldung wird sowohl in der Instanz gespeichert als auch an die Basisklasse `Exception` weitergegeben, um die Standardfunktionalität von Ausnahmen zu nutzen."
   ]
  }
 ],
 "metadata": {
  "kernelspec": {
   "display_name": "Python 3",
   "language": "python",
   "name": "python3"
  },
  "language_info": {
   "codemirror_mode": {
    "name": "ipython",
    "version": 3
   },
   "file_extension": ".py",
   "mimetype": "text/x-python",
   "name": "python",
   "nbconvert_exporter": "python",
   "pygments_lexer": "ipython3",
   "version": "3.13.1"
  }
 },
 "nbformat": 4,
 "nbformat_minor": 2
}
