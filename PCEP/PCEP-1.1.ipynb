{
 "cells": [
  {
   "cell_type": "code",
   "execution_count": 1,
   "metadata": {},
   "outputs": [
    {
     "name": "stdout",
     "output_type": "stream",
     "text": [
      "Hello World\n"
     ]
    }
   ],
   "source": [
    "print(\"Hello World\")"
   ]
  },
  {
   "cell_type": "code",
   "execution_count": 2,
   "metadata": {},
   "outputs": [
    {
     "name": "stdout",
     "output_type": "stream",
     "text": [
      "10\n"
     ]
    }
   ],
   "source": [
    "a = 10\n",
    "\n",
    "print(a)"
   ]
  },
  {
   "cell_type": "code",
   "execution_count": 8,
   "metadata": {},
   "outputs": [
    {
     "name": "stdout",
     "output_type": "stream",
     "text": [
      "Hello World\n",
      "7\n"
     ]
    },
    {
     "data": {
      "text/plain": [
       "'Hello World'"
      ]
     },
     "execution_count": 8,
     "metadata": {},
     "output_type": "execute_result"
    }
   ],
   "source": [
    "# Unterschied zwischen Statement und Expression\n",
    "\n",
    "#Bsp. für Statement\n",
    "print(\"Hello World\")\n",
    "\n",
    "#Bsp. für Expression\n",
    "3 + 4\n",
    "\n",
    "#Kombination\n",
    "print(3 + 4)\n",
    "\n",
    "#Bsp.2 für Expression\n",
    "\"Hello\" + \" \" + \"World\""
   ]
  },
  {
   "cell_type": "code",
   "execution_count": 6,
   "metadata": {},
   "outputs": [
    {
     "name": "stdout",
     "output_type": "stream",
     "text": [
      "11\n"
     ]
    }
   ],
   "source": [
    "#Syntax vs. Semantik\n",
    "\n",
    "x = 8\n",
    "\n",
    "print(3 + x)\n",
    "\n",
    "#Ziel von Jürgen: Die Summe in der Konsole sehen"
   ]
  },
  {
   "cell_type": "code",
   "execution_count": 20,
   "metadata": {},
   "outputs": [
    {
     "name": "stdout",
     "output_type": "stream",
     "text": [
      "15\n"
     ]
    }
   ],
   "source": [
    "def factorial(n):\n",
    "    \"\"\"\n",
    "    Berechnet rekursiv die Fakultät von n.\n",
    "    \n",
    "    :param n: Eine nicht-negative ganze Zahl\n",
    "    :return: Die Fakultät von n (n!)\n",
    "    :raises ValueError: Falls n negativ ist\n",
    "    \"\"\"\n",
    "    if n < 0:\n",
    "        raise ValueError(\"n muss eine nicht-negative Zahl sein\")\n",
    "    if n == 0 or n == 1:\n",
    "        return 1\n",
    "    return n * factorial(n - 1)\n",
    "\n",
    "# Beispielaufruf:\n",
    "print(factorial(5))  # Ausgabe: 120"
   ]
  },
  {
   "cell_type": "code",
   "execution_count": 22,
   "metadata": {},
   "outputs": [
    {
     "name": "stdout",
     "output_type": "stream",
     "text": [
      "7\n"
     ]
    }
   ],
   "source": [
    "#Bsp für korrekten Syntax, fehlerhafte Semantik\n",
    "\n",
    "def addieren (a,b):\n",
    "    return a + b        #wenn man die Zahlen hier multipliziert, dann ist es syntaktisch korrekt, aber semantisch falsch\n",
    "\n",
    "print(addieren(5,2)) # erwartet 7"
   ]
  },
  {
   "cell_type": "code",
   "execution_count": 4,
   "metadata": {},
   "outputs": [
    {
     "name": "stdout",
     "output_type": "stream",
     "text": [
      "x ist größer als 0\n"
     ]
    }
   ],
   "source": [
    "# Code Beispiel: If-Anweisung\n",
    "# eine If-Anweisung live implementierst, um zu überprüfen, ob eine Variable x größer als 0 ist.\n",
    "x = 10\n",
    "\n",
    "if x > 0:\n",
    "    print(\"x ist größer als 0\")\n",
    "else:\n",
    "    print(\"x ist nicht größer als 0\")\n"
   ]
  },
  {
   "cell_type": "code",
   "execution_count": null,
   "metadata": {},
   "outputs": [
    {
     "name": "stdout",
     "output_type": "stream",
     "text": [
      "Hallo Eren\n",
      "3.14159\n",
      "Danke Jusef\n"
     ]
    }
   ],
   "source": [
    "#Variablen und Konstanten\n",
    "name = \"Eren\"\n",
    "\n",
    "print(\"Hallo \" + name)\n",
    "\n",
    "PI = 3.14159\n",
    "\n",
    "print(PI)\n",
    "\n",
    "PI = \"Danke Jusef\"\n",
    "\n",
    "#Konstanten in Python \"gibt es\" eigentlich nicht\n",
    "# Entwickler merken es als Konstante, wenn die Variable groß genannt ist\n",
    "# Python und JavaScript sind \"dynamically typed\" Sprachen\n",
    "print(PI)"
   ]
  },
  {
   "cell_type": "code",
   "execution_count": null,
   "metadata": {},
   "outputs": [
    {
     "name": "stdout",
     "output_type": "stream",
     "text": [
      "3.14159\n"
     ]
    }
   ],
   "source": [
    "#Wir haben entdeckt, dass wir eine Funktion früher definieren müssen, und dann ausführen können\n",
    "\n",
    "def schreib(text):\n",
    "    print(text)\n",
    "\n",
    "PI = 3.14159\n",
    "\n",
    "schreib(PI)\n",
    "\n",
    "PI = \"Danke Jusef\"\n",
    "\n"
   ]
  },
  {
   "cell_type": "code",
   "execution_count": 12,
   "metadata": {},
   "outputs": [
    {
     "name": "stdout",
     "output_type": "stream",
     "text": [
      "3 Mal\n"
     ]
    }
   ],
   "source": [
    "print(str(3) + \" Mal\")"
   ]
  },
  {
   "cell_type": "code",
   "execution_count": null,
   "metadata": {},
   "outputs": [],
   "source": [
    "# Boolean Datentypen\n",
    "True\n",
    "False"
   ]
  }
 ],
 "metadata": {
  "kernelspec": {
   "display_name": "Python 3",
   "language": "python",
   "name": "python3"
  },
  "language_info": {
   "codemirror_mode": {
    "name": "ipython",
    "version": 3
   },
   "file_extension": ".py",
   "mimetype": "text/x-python",
   "name": "python",
   "nbconvert_exporter": "python",
   "pygments_lexer": "ipython3",
   "version": "3.13.1"
  }
 },
 "nbformat": 4,
 "nbformat_minor": 2
}
