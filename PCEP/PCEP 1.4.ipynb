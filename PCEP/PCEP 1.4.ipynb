{
 "cells": [
  {
   "cell_type": "code",
   "execution_count": null,
   "metadata": {},
   "outputs": [],
   "source": [
    "# Challenge 1\n",
    "\n",
    "sc_not = 1.23e4 # wird verwendet um sehr große oder sehr kleine Zahlen darzustellen\n",
    "konk = \"Python \" + \"3.13.1\" # verbindet Teilestings zu einem String\n",
    "groesser_als = sc_not > 1.23e3 # vergleicht zwei Zahlen und gibt True oder False zurück\n",
    "\n",
    "print(sc_not)\n",
    "print(konk)\n",
    "print(groesser_als)\n"
   ]
  },
  {
   "cell_type": "code",
   "execution_count": null,
   "metadata": {},
   "outputs": [],
   "source": [
    "''' \n",
    "Challenge 2 \n",
    "\n",
    "Dateiberechtigungen und Flags werden oft als Bits dargestellt.\n",
    "z.B. bei Dateiberechtigungen:\n",
    "Lesen: 100\n",
    "Schreiben: 010\n",
    "Ausführen: 001\n",
    "\n",
    "Wenn man jetzt jemandem die Berechtigung zum Lesen und Schreiben geben möchte, dann kann man den OR-Operator verwenden.\n",
    "\n",
    "permission_r_w = 0b100 | 0b010 = 0b110\n",
    "\n",
    "Der OR-Operator setzt das Bit beim Ergebnis auf 1, wenn mindestens einer der beiden Operanden auf 1 ist.\n",
    "'''\n",
    "\n"
   ]
  },
  {
   "cell_type": "code",
   "execution_count": null,
   "metadata": {},
   "outputs": [],
   "source": [
    "# Challenge 3\n",
    "\n",
    "from IPython.display import clear_output # das ist der Button oben rechts \"Clear All Outputs\"\n",
    "\n",
    "shopping_list = []\n",
    "\n",
    "new_item = input(\"Was möchtest du hinzufügen: \")\n",
    "\n",
    "while new_item != \"\": # wenn nichts mehr hinzugefügt werden soll, einfach Enter drücken, dann wird die Schleife beendet\n",
    "\n",
    "    shopping_list.append(new_item)\n",
    "\n",
    "    clear_output(wait=True) # wartet bis der neue Input eingegeben wurde, damit es flüssig läuft\n",
    "\n",
    "    print(\"Einkaufsliste:\")\n",
    "\n",
    "    for item in shopping_list:\n",
    "        print(f\"- {item}\")\n",
    "    \n",
    "    new_item = input(\"Was möchtest du hinzufügen: \")\n",
    "\n",
    "print(\"\"\"    _\n",
    " __(.)<\n",
    " \\\\_)_)\n",
    "\"\"\")"
   ]
  },
  {
   "cell_type": "code",
   "execution_count": null,
   "metadata": {},
   "outputs": [],
   "source": []
  }
 ],
 "metadata": {
  "kernelspec": {
   "display_name": "Python 3",
   "language": "python",
   "name": "python3"
  },
  "language_info": {
   "codemirror_mode": {
    "name": "ipython",
    "version": 3
   },
   "file_extension": ".py",
   "mimetype": "text/x-python",
   "name": "python",
   "nbconvert_exporter": "python",
   "pygments_lexer": "ipython3",
   "version": "3.13.1"
  }
 },
 "nbformat": 4,
 "nbformat_minor": 2
}
