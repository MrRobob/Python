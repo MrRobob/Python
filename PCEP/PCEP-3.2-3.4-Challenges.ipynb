{
 "cells": [
  {
   "cell_type": "code",
   "execution_count": null,
   "metadata": {},
   "outputs": [
    {
     "name": "stdout",
     "output_type": "stream",
     "text": [
      "Breitengrad: 52.577167\n",
      "Längengrad: 13.252782\n"
     ]
    }
   ],
   "source": [
    "# Challenge 1\n",
    "\n",
    "koordinaten = (52.577167, 13.252782)\n",
    "lat, lon = koordinaten\n",
    "print(f\"Breitengrad: {lat}\")\n",
    "print(f\"Längengrad: {lon}\")"
   ]
  },
  {
   "cell_type": "code",
   "execution_count": null,
   "metadata": {},
   "outputs": [
    {
     "name": "stdout",
     "output_type": "stream",
     "text": [
      "42\n"
     ]
    }
   ],
   "source": [
    "# Challenge 2\n",
    "\n",
    "verschachtelt = ((1, 2), (3, 4), (5, (6, 42)))\n",
    "print(verschachtelt[2][1][1])"
   ]
  },
  {
   "cell_type": "code",
   "execution_count": 3,
   "metadata": {},
   "outputs": [
    {
     "name": "stdout",
     "output_type": "stream",
     "text": [
      "Peter: 015157898654\n",
      "Paul: 017612345678\n",
      "Mary: 016212345673\n"
     ]
    }
   ],
   "source": [
    "# Challenge 3\n",
    "\n",
    "telefonbuch = {\n",
    "    \"Peter\": \"015157898654\",\n",
    "    \"Paul\": \"017612345678\",\n",
    "    \"Mary\": \"016212345673\"\n",
    "}\n",
    "\n",
    "for name, nummer in telefonbuch.items():\n",
    "    print(f\"{name}: {nummer}\")"
   ]
  },
  {
   "cell_type": "code",
   "execution_count": 5,
   "metadata": {},
   "outputs": [
    {
     "name": "stdout",
     "output_type": "stream",
     "text": [
      "Paul ist 57.\n",
      "Mary ist 33.\n"
     ]
    }
   ],
   "source": [
    "# Challenge 4\n",
    "\n",
    "alter = {\n",
    "    \"Peter\": 29,\n",
    "    \"Paul\": 57,\n",
    "    \"Mary\": 33\n",
    "}\n",
    "\n",
    "for name, age in alter.items():\n",
    "    if age > 30:\n",
    "        print(f\"{name} ist {age}.\")"
   ]
  },
  {
   "cell_type": "code",
   "execution_count": 2,
   "metadata": {},
   "outputs": [
    {
     "name": "stdout",
     "output_type": "stream",
     "text": [
      "Hallo Welt!\n",
      "Hallo Python!\n",
      "2\n"
     ]
    }
   ],
   "source": [
    "text = \"Hallo Welt!\"\n",
    "print(text)\n",
    "text = text.replace(\"Welt\", \"Python\")\n",
    "print(text)\n",
    "count_word = len(text.split())\n",
    "print(count_word)"
   ]
  }
 ],
 "metadata": {
  "kernelspec": {
   "display_name": "Python 3",
   "language": "python",
   "name": "python3"
  },
  "language_info": {
   "codemirror_mode": {
    "name": "ipython",
    "version": 3
   },
   "file_extension": ".py",
   "mimetype": "text/x-python",
   "name": "python",
   "nbconvert_exporter": "python",
   "pygments_lexer": "ipython3",
   "version": "3.13.1"
  }
 },
 "nbformat": 4,
 "nbformat_minor": 2
}
