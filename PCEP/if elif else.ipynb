{
 "cells": [
  {
   "cell_type": "code",
   "execution_count": 5,
   "metadata": {},
   "outputs": [
    {
     "name": "stdout",
     "output_type": "stream",
     "text": [
      "Es ist ein blauer BMW.\n"
     ]
    }
   ],
   "source": [
    "auto = input(\"Welche Automarke? \")\n",
    "\n",
    "if auto == \"BMW\":\n",
    "    farbe = input(\"Welche Farbe? \")\n",
    "    if farbe == \"blau\" or farbe == \"weiß\":\n",
    "        print(f\"Es ist ein {farbe}er {auto}.\")\n",
    "    else:\n",
    "        print(f\"{auto} in dieser Farbe nicht verfügbar.\")\n",
    "elif auto == \"Mercedes\":\n",
    "    farbe = input(\"Welche Farbe? \")\n",
    "    if farbe == \"rot\" or farbe == \"schwarz\":\n",
    "        print(f\"Es ist ein {farbe}er {auto}.\")\n",
    "    else:\n",
    "        print(f\"{auto} in dieser Farbe nicht verfügbar.\")\n",
    "else:\n",
    "    print(f\"Automarke nicht verfügbar.\")\n",
    "\n"
   ]
  },
  {
   "cell_type": "code",
   "execution_count": null,
   "metadata": {},
   "outputs": [
    {
     "name": "stdout",
     "output_type": "stream",
     "text": [
      "Eine Zahl, du Depp!!! Zwischen 1 und 100 ]:<\n",
      "Richtig, Glückwunsch!\n"
     ]
    }
   ],
   "source": [
    "secret_number = 42\n",
    "\n",
    "def guess_number():\n",
    "    try:\n",
    "        guess = int(input(\"Gib eine Zahl zwischen 1 und 100 ein: \"))\n",
    "        if guess < 1 or guess > 100:\n",
    "            print(\"Komm wir zählen zusammen 1, 2, 3, 4, 5, ... , 99, 100.\")\n",
    "            guess_number()\n",
    "        elif guess < secret_number:\n",
    "            print(\"Zu klein, vielleicht beim nächsten mal.\")\n",
    "            guess_number()\n",
    "        elif guess > secret_number:\n",
    "            print(\"Zu groß, vielleicht beim nächsten mal.\")\n",
    "            guess_number()\n",
    "        elif guess == secret_number:\n",
    "            print(\"Richtig, Glückwunsch!\")\n",
    "    except ValueError:\n",
    "        print(\"Das ist keine Zahl!\")\n",
    "        guess_number()\n",
    "\n",
    "guess_number()"
   ]
  },
  {
   "cell_type": "code",
   "execution_count": null,
   "metadata": {},
   "outputs": [
    {
     "name": "stdout",
     "output_type": "stream",
     "text": [
      "Das ist keine Zahl!\n",
      "Das ist keine Zahl!\n",
      "Ungerade Zahl.\n"
     ]
    }
   ],
   "source": [
    "def check_number():\n",
    "    try:\n",
    "        zahl = int(input(\"Gib eine Zahl ein: \"))\n",
    "        if zahl % 2 == 0:\n",
    "            print(\"Gerade Zahl\")\n",
    "        else:\n",
    "            print(\"Ungerade Zahl\")\n",
    "    except ValueError:\n",
    "        print(\"Das ist keine Zahl!\")\n",
    "        check_number()\n",
    "\n",
    "check_number()\n"
   ]
  },
  {
   "cell_type": "code",
   "execution_count": 26,
   "metadata": {},
   "outputs": [
    {
     "name": "stdout",
     "output_type": "stream",
     "text": [
      "Kalt\n"
     ]
    }
   ],
   "source": [
    "def categorize_temperature():\n",
    "    try:\n",
    "        temp = int(input(\"Gib die Temperatur ein: \"))\n",
    "        if temp < 0:\n",
    "            print(\"Gefrierpunkt oder darunter\")\n",
    "        elif temp >= 0 and temp < 20:\n",
    "            print(\"Kalt\")\n",
    "        elif temp >= 20 and temp < 30:\n",
    "            print(\"Warm\")\n",
    "        else:\n",
    "            print(\"Heiß\")\n",
    "    except ValueError:\n",
    "        print(\"Das ist keine Zahl!\")\n",
    "        categorize_temperature()\n",
    "\n",
    "categorize_temperature()"
   ]
  }
 ],
 "metadata": {
  "kernelspec": {
   "display_name": "Python 3",
   "language": "python",
   "name": "python3"
  },
  "language_info": {
   "codemirror_mode": {
    "name": "ipython",
    "version": 3
   },
   "file_extension": ".py",
   "mimetype": "text/x-python",
   "name": "python",
   "nbconvert_exporter": "python",
   "pygments_lexer": "ipython3",
   "version": "3.13.1"
  }
 },
 "nbformat": 4,
 "nbformat_minor": 2
}
