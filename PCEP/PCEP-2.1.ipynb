{
 "cells": [
  {
   "cell_type": "code",
   "execution_count": 23,
   "metadata": {},
   "outputs": [
    {
     "name": "stdout",
     "output_type": "stream",
     "text": [
      "Hallo Carlos schön das du da bist:)\n",
      "Hallo Carlos schön das du da bist:)\n"
     ]
    }
   ],
   "source": [
    "## Aufgabe 1: ------------------------\n",
    "\n",
    "# a)\n",
    "# Schreibe einen print() Befehl der \"Hallo mein Name ist <name>\" ausgibt. \n",
    "# Bsp.: \"Hallo mein Name ist Tony.\"\n",
    "\n",
    "# print(\"Hallo mein Name ist Tony.\")\n",
    "\n",
    "# b)\n",
    "# Schreibe nun deinen Namen in eine Variable.\n",
    "# Schreibe einen Befehl der ausgibt: \"Hallo mein Name ist <name>\" und die Variable nutzt.\n",
    "\n",
    "# name = \"Jürgen\"\n",
    "# print(\"Hallo mein\", \"Name ist\", name + \".\", \"Ich freue mich dich zu sehen.\", sep=\"---\")\n",
    "\n",
    "# c)\n",
    "# Schreibe es so um, dass der Nutzer zunächst nach seinem Namen gefragt wird und dann die Antwort bekommt \"Hallo <Name> schön das du da bist.\"\n",
    "# tipp: input()\n",
    "\n",
    "name = input(\"Bitte gib deinen Namne ein: \")\n",
    "print(\"Hallo\", name, \"schön das du da bist\", end=\":)\\n\")\n",
    "print(\"Hallo\", name, \"schön das du da bist\", end=\":)\\n\")\n",
    "# print(\"Hallo \" + name + \" schön das du da bist :)\")\n",
    "\n",
    "# print(\"Hello \\nWorld \\nHappy Valentinesday :) \")\n",
    "\n",
    "# print(\"applepen\", \"pineapplepen\", sep=\"\")\n",
    "# print(\"applepen\" + \"pineapplepen\", sep=\"--\")"
   ]
  },
  {
   "cell_type": "code",
   "execution_count": 37,
   "metadata": {},
   "outputs": [
    {
     "name": "stdout",
     "output_type": "stream",
     "text": [
      "Hello World!\n",
      "a b c\n",
      "1 2 3\n",
      "a 2 1.53\n",
      "Bob1\n",
      "Bob 1\n",
      "['a', 1, 3] {'name': 'Bob', 'age': 30, 'city': 'L.A.', 'demo_list': ['haus', 'maus', 'wassermelone']}\n",
      "3\n",
      "L.A.\n",
      "abc\n",
      "55\n",
      "10\n",
      "10.0\n"
     ]
    }
   ],
   "source": [
    "print(\"Hello World!\")\n",
    "\n",
    "print(\"a\", \"b\", \"c\")\n",
    "print(1, 2, 3)\n",
    "print(\"a\", 2, 1.53)\n",
    "\n",
    "string_1 = \"Bob\"\n",
    "num_1 = 1\n",
    "\n",
    "print(string_1 + str(num_1))\n",
    "print(string_1 , num_1)\n",
    "\n",
    "list_1 = [\"a\", 1, 3]\n",
    "dict_1 = {\n",
    "    \"name\": \"Bob\",\n",
    "    \"age\": 30,\n",
    "    \"city\": \"L.A.\",\n",
    "    \"demo_list\": [\"haus\", \"maus\", \"wassermelone\"]\n",
    "}\n",
    "\n",
    "print(list_1, dict_1)\n",
    "\n",
    "print(list_1[2])\n",
    "print(dict_1[\"city\"])\n",
    "\n",
    "print(\"abc\")\n",
    "\n",
    "zahl = input(\"Gib eine Zahl ein: \")\n",
    "print(zahl * 2)\n",
    "print(int(zahl) * 2)\n",
    "print(float(zahl) * 2)"
   ]
  },
  {
   "cell_type": "code",
   "execution_count": null,
   "metadata": {},
   "outputs": [
    {
     "name": "stdout",
     "output_type": "stream",
     "text": [
      "30\n",
      "10\n",
      "200\n",
      "2.0\n"
     ]
    }
   ],
   "source": [
    "zahl_1 = \"20\"\n",
    "zahl_2 = \"10\"\n",
    "\n",
    "###################\n",
    "# ändere den Code hier: \n",
    "# (es dürfen Zeilen hinzugefügt werden)\n",
    "zahl_1 = int(zahl_1)\n",
    "zahl_2 = int(zahl_2)\n",
    "\n",
    "ergebnis_addition = zahl_1 + zahl_2\n",
    "ergebnis_subtraktion = zahl_1 - zahl_2\n",
    "ergebnis_multiplikation = zahl_1 * zahl_2\n",
    "ergebnis_division = zahl_1 / zahl_2\n",
    "\n",
    "###################\n",
    "\n",
    "print(ergebnis_addition)\n",
    "print(ergebnis_subtraktion)\n",
    "print(ergebnis_multiplikation)\n",
    "print(ergebnis_division)"
   ]
  },
  {
   "cell_type": "code",
   "execution_count": null,
   "metadata": {},
   "outputs": [
    {
     "name": "stdout",
     "output_type": "stream",
     "text": [
      "Du bist Volljährig\n"
     ]
    }
   ],
   "source": [
    "age = int(input(\"Dein Alter?\"))\n",
    "\n",
    "if age < 18:\n",
    "    print(\"Du bist jünger als 18.\")\n",
    "\n",
    "if age >= 18:\n",
    "    print(\"Du bist Volljährig.\")\n",
    "    print(\"Mach doch einen Führerschein.\")\n",
    "    name = input(\"Name?\")\n",
    "    print(name)\n",
    "\n",
    "if age >= 25:\n",
    "    print(\"Du bist nicht nur Volljährig, sondern steinalt.\")\n",
    "\n",
    "\n"
   ]
  },
  {
   "cell_type": "code",
   "execution_count": null,
   "metadata": {},
   "outputs": [
    {
     "name": "stdout",
     "output_type": "stream",
     "text": [
      "Du bist jünger als 18.\n",
      "Du bist nicht Mete\n"
     ]
    }
   ],
   "source": [
    "age = 5\n",
    "\n",
    "if age < 18:\n",
    "    print(\"Du bist jünger als 18.\")\n",
    "else:\n",
    "    print(\"Du bist Volljährig\")\n",
    "   \n",
    "    \n",
    "name = input(\"Bitte gib deinen Namen ein: \")\n",
    "\n",
    "if name == \"Mete\":\n",
    "    print(\"Hello\", name)\n",
    "else:\n",
    "    print(\"Du bist nicht Mete\")"
   ]
  },
  {
   "cell_type": "code",
   "execution_count": null,
   "metadata": {},
   "outputs": [
    {
     "name": "stdout",
     "output_type": "stream",
     "text": [
      "Du bist Taylor!\n",
      "Life goes on\n"
     ]
    }
   ],
   "source": [
    "name = \"Tony\"\n",
    "last_name = \"Taylor\"\n",
    "\n",
    "if name == \"Mete\":\n",
    "    print(\"Du bist Mete.\")\n",
    "elif last_name == \"Taylor\":\n",
    "    print(\"Du bist Taylor!\")\n",
    "elif name == \"Tony\" and last_name==\"Stark\":\n",
    "    print(\"Hello Ironman?\")\n",
    "elif name == \"Tony\" and last_name != \"Stark\":\n",
    "    print(\"Das ist nicht Tony Stark\")\n",
    "else:\n",
    "    print(\"Du bist nicht Mete!\")\n",
    "    \n",
    "print(\"Life goes on\")"
   ]
  },
  {
   "cell_type": "code",
   "execution_count": 86,
   "metadata": {},
   "outputs": [
    {
     "name": "stdout",
     "output_type": "stream",
     "text": [
      "Hello, wilkommen bei Eisdieler Ardice\n",
      "Hab ich nicht\n",
      "Tschöööö\n"
     ]
    }
   ],
   "source": [
    "eis = \"fisch\"\n",
    "topping = \"cookies\"\n",
    "\n",
    "print(\"Hello, wilkommen bei Eisdieler Ardice\")\n",
    "\n",
    "if eis == \"vanille\":\n",
    "    pass# <--- reminder später bitte noch fertig schreiben\n",
    "elif eis == \"schoko\":\n",
    "    if topping == \"karotten\":\n",
    "        pass\n",
    "    elif topping == \"streusel\":\n",
    "        print(\"Da bitte das micht 7777€\")\n",
    "        print(\"hey stell dich nicht an Butter kostet jetzt auch mehr\")\n",
    "    else:\n",
    "        print(\"Das Topping habe ich leider nicht\")\n",
    "        \n",
    "    print(\"Warum will keiner mein Eis?\")\n",
    "    \n",
    "elif eis == \"kartoffel\":\n",
    "    pass\n",
    "else:\n",
    "    print(\"Hab ich nicht\")\n",
    "\n",
    "print(\"Tschöööö\")"
   ]
  },
  {
   "cell_type": "code",
   "execution_count": 88,
   "metadata": {},
   "outputs": [
    {
     "name": "stdout",
     "output_type": "stream",
     "text": [
      "Du bist zu jung für diesen Film\n"
     ]
    }
   ],
   "source": [
    "# Hier ist ein Code der nicht Funktioniert, es haben sich 9 Fehler eingeschlichen, kannst du sie finden?:\n",
    "\n",
    "\n",
    "alter = int(input(\"Bitte gib dein Alter ein: \"))\n",
    "\n",
    "if alter <= 17:\n",
    "\n",
    "    print(\"Du bist zu jung für diesen Film\")\n",
    "\n",
    "else:\n",
    "\n",
    "    print(\"Viel Spaß beim Film\")\n"
   ]
  },
  {
   "cell_type": "code",
   "execution_count": 91,
   "metadata": {},
   "outputs": [
    {
     "name": "stdout",
     "output_type": "stream",
     "text": [
      "ungültige rechenmethode\n"
     ]
    }
   ],
   "source": [
    "# Übernehme folgenden Code und vervollständige Ihn so, dass das Programm die Rechenmethode überprüft.\n",
    "# Bei einem \"+\" soll eine Addition durchgeführt werden und bei einem \"-\" eine Subtraktion\n",
    "\n",
    "zahl_1 = 20\n",
    "zahl_2 = 10\n",
    "rechenmethode = \"mal\"\n",
    "\n",
    "###################\n",
    "\n",
    "if rechenmethode == \"+\":\n",
    "    ergebnis = zahl_1 + zahl_2\n",
    "elif rechenmethode == \"-\":\n",
    "    ergebnis = zahl_1 - zahl_2\n",
    "else:\n",
    "    ergebnis = \"ungültige rechenmethode\"\n",
    "\n",
    "\n",
    "###################\n",
    "\n",
    "print(ergebnis)"
   ]
  }
 ],
 "metadata": {
  "kernelspec": {
   "display_name": "Python 3",
   "language": "python",
   "name": "python3"
  },
  "language_info": {
   "codemirror_mode": {
    "name": "ipython",
    "version": 3
   },
   "file_extension": ".py",
   "mimetype": "text/x-python",
   "name": "python",
   "nbconvert_exporter": "python",
   "pygments_lexer": "ipython3",
   "version": "3.12.2"
  }
 },
 "nbformat": 4,
 "nbformat_minor": 2
}
