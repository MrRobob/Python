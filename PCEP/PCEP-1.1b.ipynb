{
 "cells": [
  {
   "cell_type": "code",
   "execution_count": 19,
   "metadata": {},
   "outputs": [
    {
     "name": "stdout",
     "output_type": "stream",
     "text": [
      "Boolean: True\n",
      "Integer: 69\n",
      "Float: 1.23\n"
     ]
    }
   ],
   "source": [
    "# Chalenge 1\n",
    "boolean = True\n",
    "integer = 69\n",
    "float = 1.23\n",
    "\n",
    "print(f\"Boolean: {boolean}\")\n",
    "print(f\"Integer: {integer}\")\n",
    "print(f\"Float: {float}\")"
   ]
  },
  {
   "cell_type": "code",
   "execution_count": 20,
   "metadata": {},
   "outputs": [
    {
     "name": "stdout",
     "output_type": "stream",
     "text": [
      "Scientific notation: 456700000.0\n"
     ]
    }
   ],
   "source": [
    "# Challenge 2\n",
    "\n",
    "sc_not = 4.567e8\n",
    "\n",
    "print(f\"Scientific notation: {sc_not}\")"
   ]
  },
  {
   "cell_type": "code",
   "execution_count": null,
   "metadata": {},
   "outputs": [
    {
     "name": "stdout",
     "output_type": "stream",
     "text": [
      "Decimal: 69\n",
      "Binary: 0b1000101\n",
      "Octal: 0o105\n",
      "Hexadecimal: 0x45\n"
     ]
    }
   ],
   "source": [
    "# Challenge 3\n",
    "\n",
    "number = 69\n",
    "\n",
    "print(f\"Decimal: {number}\")\n",
    "print(f\"Binary: {bin(number)}\")\n",
    "print(f\"Octal: {oct(number)}\")\n",
    "print(f\"Hexadecimal: {hex(number)}\")"
   ]
  },
  {
   "cell_type": "code",
   "execution_count": null,
   "metadata": {},
   "outputs": [
    {
     "name": "stdout",
     "output_type": "stream",
     "text": [
      "Agent Smith\n"
     ]
    }
   ],
   "source": [
    "# Challenge 4\n",
    "\n",
    "first_name = \"Agent\"\n",
    "last_name = \"Smith\"\n",
    "\n",
    "print(first_name + \" \" + last_name)"
   ]
  },
  {
   "cell_type": "code",
   "execution_count": null,
   "metadata": {},
   "outputs": [
    {
     "name": "stdout",
     "output_type": "stream",
     "text": [
      "Decimal: 0\n",
      "Binary: 0b0\n",
      "Octal: 0o0\n",
      "Hexadecimal: 0x0 \n",
      "\n",
      "Decimal: 1\n",
      "Binary: 0b1\n",
      "Octal: 0o1\n",
      "Hexadecimal: 0x1 \n",
      "\n",
      "Decimal: 2\n",
      "Binary: 0b10\n",
      "Octal: 0o2\n",
      "Hexadecimal: 0x2 \n",
      "\n"
     ]
    }
   ],
   "source": [
    "# Challenge 5\n",
    "\n",
    "for i in range(3):\n",
    "    print(f\"Decimal: {i}\")\n",
    "    print(f\"Binary: {bin(i)}\")\n",
    "    print(f\"Octal: {oct(i)}\")\n",
    "    print(f\"Hexadecimal: {hex(i)} \\n\")"
   ]
  }
 ],
 "metadata": {
  "kernelspec": {
   "display_name": "Python 3",
   "language": "python",
   "name": "python3"
  },
  "language_info": {
   "codemirror_mode": {
    "name": "ipython",
    "version": 3
   },
   "file_extension": ".py",
   "mimetype": "text/x-python",
   "name": "python",
   "nbconvert_exporter": "python",
   "pygments_lexer": "ipython3",
   "version": "3.13.1"
  }
 },
 "nbformat": 4,
 "nbformat_minor": 2
}
