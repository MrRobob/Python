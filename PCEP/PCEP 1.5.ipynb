{
 "cells": [
  {
   "cell_type": "code",
   "execution_count": null,
   "metadata": {},
   "outputs": [
    {
     "name": "stdout",
     "output_type": "stream",
     "text": [
      "Hallo Roman, schö, dass du da bist!\n"
     ]
    }
   ],
   "source": [
    "# Aufgabe 1\n",
    "\n",
    "name = input(\"Wie heißt du? \")\n",
    "\n",
    "print(f\"Hallo {name}, schön, dass du da bist!\")"
   ]
  },
  {
   "cell_type": "code",
   "execution_count": 13,
   "metadata": {},
   "outputs": [
    {
     "name": "stdout",
     "output_type": "stream",
     "text": [
      "Hello World!\n",
      "a b c\n",
      "1 2 3\n",
      "a 2 1.53\n",
      "Bob1\n",
      "['a', 1, 3] {'name': 'Bob', 'age': 30, 'city': 'L.A.', 'demo_list': ['haus', 'maus', 'wassermelone']}\n",
      "3\n",
      "L.A.\n",
      "abc\n",
      "12\n"
     ]
    }
   ],
   "source": [
    "print (\"Hello World!\")\n",
    "\n",
    "print (\"a\", \"b\", \"c\")\n",
    "print(1, 2, 3)\n",
    "print(\"a\", 2, 1.53)\n",
    "\n",
    "string_1 = \"Bob\"\n",
    "num_1 = str(1)\n",
    "\n",
    "print(string_1 + num_1)\n",
    "\n",
    "list_1 = [\"a\", 1, 3]\n",
    "dict_1 = {\n",
    "    \"name\": \"Bob\",\n",
    "    \"age\": 30,\n",
    "    \"city\": \"L.A.\",\n",
    "    \"demo_list\": [\"haus\", \"maus\", \"wassermelone\"]\n",
    "}\n",
    "\n",
    "print(list_1, dict_1)\n",
    "\n",
    "print(list_1[2])\n",
    "print(dict_1[\"city\"])\n",
    "\n",
    "print(\"abc\")\n",
    "\n",
    "zahl = int(input(\"Gib eine Zahl ein: \"))\n",
    "print(zahl * 2)"
   ]
  },
  {
   "cell_type": "code",
   "execution_count": 15,
   "metadata": {},
   "outputs": [
    {
     "name": "stdout",
     "output_type": "stream",
     "text": [
      "9\n",
      "-1\n",
      "20\n",
      "0.8\n"
     ]
    }
   ],
   "source": [
    "zahl_1 = input(\"Gib die erste Zahl ein: \")\n",
    "zahl_2 = input(\"Gib die zweite Zahl ein: \")\n",
    "\n",
    "ergebnis_addition = int(zahl_1) + int(zahl_2)\n",
    "ergebnis_subtraktion = int(zahl_1) - int(zahl_2)\n",
    "ergebnis_multiplikation = int(zahl_1) * int(zahl_2)\n",
    "ergebnis_division = int(zahl_1) / int(zahl_2)\n",
    "\n",
    "print(ergebnis_addition)\n",
    "print(ergebnis_subtraktion)\n",
    "print(ergebnis_multiplikation)\n",
    "print(ergebnis_division)"
   ]
  }
 ],
 "metadata": {
  "kernelspec": {
   "display_name": "Python 3",
   "language": "python",
   "name": "python3"
  },
  "language_info": {
   "codemirror_mode": {
    "name": "ipython",
    "version": 3
   },
   "file_extension": ".py",
   "mimetype": "text/x-python",
   "name": "python",
   "nbconvert_exporter": "python",
   "pygments_lexer": "ipython3",
   "version": "3.13.1"
  }
 },
 "nbformat": 4,
 "nbformat_minor": 2
}
