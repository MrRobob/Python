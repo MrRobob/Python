{
 "cells": [
  {
   "cell_type": "code",
   "execution_count": null,
   "metadata": {},
   "outputs": [
    {
     "name": "stdout",
     "output_type": "stream",
     "text": [
      "[1, 2, 3, 4, 5, 6, 7, 8, 9, 10]\n",
      "[1, 2, 3, 4, 5, 6, 7, 8, 9, 10]\n"
     ]
    }
   ],
   "source": [
    "# Challenge 0\n",
    "\n",
    "zahlen = [5, 2, 7, 10, 1, 6, 3, 8, 9, 4]\n",
    "\n",
    "zahlen_sortiert = sorted(zahlen)\n",
    "\n",
    "zahlen.sort()\n",
    "\n",
    "print(zahlen)\n",
    "print(zahlen_sortiert)"
   ]
  },
  {
   "cell_type": "code",
   "execution_count": 18,
   "metadata": {},
   "outputs": [
    {
     "name": "stdout",
     "output_type": "stream",
     "text": [
      "['Hans', 'Peter', 'Klaus']\n",
      "['Hans', 'Klaus']\n"
     ]
    }
   ],
   "source": [
    "# Challenge 1\n",
    "\n",
    "namen = []\n",
    "namen.append(\"Hans\")\n",
    "namen.append(\"Peter\")\n",
    "namen.append(\"Klaus\")\n",
    "\n",
    "print(namen)\n",
    "\n",
    "namen.remove(namen[-2])\n",
    "\n",
    "print(namen)"
   ]
  },
  {
   "cell_type": "code",
   "execution_count": 6,
   "metadata": {},
   "outputs": [
    {
     "name": "stdout",
     "output_type": "stream",
     "text": [
      "[1, 2, 3, 4, 5]\n",
      "[8, 9, 10]\n"
     ]
    }
   ],
   "source": [
    "# Challenge 2\n",
    "\n",
    "zahlen = [1, 2, 3, 4, 5, 6, 7, 8, 9, 10]\n",
    "\n",
    "print(zahlen[:5])\n",
    "\n",
    "print(zahlen[-3:])"
   ]
  },
  {
   "cell_type": "code",
   "execution_count": 7,
   "metadata": {},
   "outputs": [
    {
     "name": "stdout",
     "output_type": "stream",
     "text": [
      "Montag\n",
      "Dienstag\n",
      "Mittwoch\n",
      "Donnerstag\n",
      "Freitag\n",
      "Samstag\n",
      "Sonntag\n"
     ]
    }
   ],
   "source": [
    "# Challenge 3\n",
    "\n",
    "wochentage = [\"Montag\", \"Dienstag\", \"Mittwoch\", \"Donnerstag\", \"Freitag\", \"Samstag\", \"Sonntag\"]\n",
    "\n",
    "for tag in wochentage:\n",
    "    print(tag)"
   ]
  },
  {
   "cell_type": "code",
   "execution_count": 8,
   "metadata": {},
   "outputs": [
    {
     "name": "stdout",
     "output_type": "stream",
     "text": [
      "[1, 4, 9, 16, 25, 36, 49, 64, 81, 100]\n"
     ]
    }
   ],
   "source": [
    "# Challenge 4\n",
    "\n",
    "quadratzahlen = [i**2 for i in range(1, 11)]\n",
    "print(quadratzahlen)"
   ]
  }
 ],
 "metadata": {
  "kernelspec": {
   "display_name": "Python 3",
   "language": "python",
   "name": "python3"
  },
  "language_info": {
   "codemirror_mode": {
    "name": "ipython",
    "version": 3
   },
   "file_extension": ".py",
   "mimetype": "text/x-python",
   "name": "python",
   "nbconvert_exporter": "python",
   "pygments_lexer": "ipython3",
   "version": "3.13.1"
  }
 },
 "nbformat": 4,
 "nbformat_minor": 2
}
